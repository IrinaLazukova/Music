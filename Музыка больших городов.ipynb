{
 "cells": [
  {
   "cell_type": "markdown",
   "metadata": {
    "id": "E0vqbgi9ay0H"
   },
   "source": [
    "# Сравнение данных музыкального сервиса для Москвы и Санкт-Петербурга"
   ]
  },
  {
   "cell_type": "markdown",
   "metadata": {
    "id": "Ml1hmfXC_Zcs"
   },
   "source": [
    "## Обзор данных"
   ]
  },
  {
   "cell_type": "code",
   "execution_count": 1,
   "metadata": {
    "id": "AXN7PHPN_Zcs"
   },
   "outputs": [],
   "source": [
    "import pandas as pd"
   ]
  },
  {
   "cell_type": "code",
   "execution_count": 2,
   "metadata": {
    "id": "fFVu7vqh_Zct"
   },
   "outputs": [],
   "source": [
    "df = pd.read_csv('/datasets/yandex_music_project.csv') # чтение файла с данными и сохранение в df"
   ]
  },
  {
   "cell_type": "code",
   "execution_count": 3,
   "metadata": {
    "id": "oWTVX3gW_Zct"
   },
   "outputs": [
    {
     "data": {
      "text/html": [
       "<div>\n",
       "<style scoped>\n",
       "    .dataframe tbody tr th:only-of-type {\n",
       "        vertical-align: middle;\n",
       "    }\n",
       "\n",
       "    .dataframe tbody tr th {\n",
       "        vertical-align: top;\n",
       "    }\n",
       "\n",
       "    .dataframe thead th {\n",
       "        text-align: right;\n",
       "    }\n",
       "</style>\n",
       "<table border=\"1\" class=\"dataframe\">\n",
       "  <thead>\n",
       "    <tr style=\"text-align: right;\">\n",
       "      <th></th>\n",
       "      <th>userID</th>\n",
       "      <th>Track</th>\n",
       "      <th>artist</th>\n",
       "      <th>genre</th>\n",
       "      <th>City</th>\n",
       "      <th>time</th>\n",
       "      <th>Day</th>\n",
       "    </tr>\n",
       "  </thead>\n",
       "  <tbody>\n",
       "    <tr>\n",
       "      <td>0</td>\n",
       "      <td>FFB692EC</td>\n",
       "      <td>Kamigata To Boots</td>\n",
       "      <td>The Mass Missile</td>\n",
       "      <td>rock</td>\n",
       "      <td>Saint-Petersburg</td>\n",
       "      <td>20:28:33</td>\n",
       "      <td>Wednesday</td>\n",
       "    </tr>\n",
       "    <tr>\n",
       "      <td>1</td>\n",
       "      <td>55204538</td>\n",
       "      <td>Delayed Because of Accident</td>\n",
       "      <td>Andreas Rönnberg</td>\n",
       "      <td>rock</td>\n",
       "      <td>Moscow</td>\n",
       "      <td>14:07:09</td>\n",
       "      <td>Friday</td>\n",
       "    </tr>\n",
       "    <tr>\n",
       "      <td>2</td>\n",
       "      <td>20EC38</td>\n",
       "      <td>Funiculì funiculà</td>\n",
       "      <td>Mario Lanza</td>\n",
       "      <td>pop</td>\n",
       "      <td>Saint-Petersburg</td>\n",
       "      <td>20:58:07</td>\n",
       "      <td>Wednesday</td>\n",
       "    </tr>\n",
       "    <tr>\n",
       "      <td>3</td>\n",
       "      <td>A3DD03C9</td>\n",
       "      <td>Dragons in the Sunset</td>\n",
       "      <td>Fire + Ice</td>\n",
       "      <td>folk</td>\n",
       "      <td>Saint-Petersburg</td>\n",
       "      <td>08:37:09</td>\n",
       "      <td>Monday</td>\n",
       "    </tr>\n",
       "    <tr>\n",
       "      <td>4</td>\n",
       "      <td>E2DC1FAE</td>\n",
       "      <td>Soul People</td>\n",
       "      <td>Space Echo</td>\n",
       "      <td>dance</td>\n",
       "      <td>Moscow</td>\n",
       "      <td>08:34:34</td>\n",
       "      <td>Monday</td>\n",
       "    </tr>\n",
       "    <tr>\n",
       "      <td>5</td>\n",
       "      <td>842029A1</td>\n",
       "      <td>Преданная</td>\n",
       "      <td>IMPERVTOR</td>\n",
       "      <td>rusrap</td>\n",
       "      <td>Saint-Petersburg</td>\n",
       "      <td>13:09:41</td>\n",
       "      <td>Friday</td>\n",
       "    </tr>\n",
       "    <tr>\n",
       "      <td>6</td>\n",
       "      <td>4CB90AA5</td>\n",
       "      <td>True</td>\n",
       "      <td>Roman Messer</td>\n",
       "      <td>dance</td>\n",
       "      <td>Moscow</td>\n",
       "      <td>13:00:07</td>\n",
       "      <td>Wednesday</td>\n",
       "    </tr>\n",
       "    <tr>\n",
       "      <td>7</td>\n",
       "      <td>F03E1C1F</td>\n",
       "      <td>Feeling This Way</td>\n",
       "      <td>Polina Griffith</td>\n",
       "      <td>dance</td>\n",
       "      <td>Moscow</td>\n",
       "      <td>20:47:49</td>\n",
       "      <td>Wednesday</td>\n",
       "    </tr>\n",
       "    <tr>\n",
       "      <td>8</td>\n",
       "      <td>8FA1D3BE</td>\n",
       "      <td>И вновь продолжается бой</td>\n",
       "      <td>NaN</td>\n",
       "      <td>ruspop</td>\n",
       "      <td>Moscow</td>\n",
       "      <td>09:17:40</td>\n",
       "      <td>Friday</td>\n",
       "    </tr>\n",
       "    <tr>\n",
       "      <td>9</td>\n",
       "      <td>E772D5C0</td>\n",
       "      <td>Pessimist</td>\n",
       "      <td>NaN</td>\n",
       "      <td>dance</td>\n",
       "      <td>Saint-Petersburg</td>\n",
       "      <td>21:20:49</td>\n",
       "      <td>Wednesday</td>\n",
       "    </tr>\n",
       "  </tbody>\n",
       "</table>\n",
       "</div>"
      ],
      "text/plain": [
       "     userID                        Track            artist   genre  \\\n",
       "0  FFB692EC            Kamigata To Boots  The Mass Missile    rock   \n",
       "1  55204538  Delayed Because of Accident  Andreas Rönnberg    rock   \n",
       "2    20EC38            Funiculì funiculà       Mario Lanza     pop   \n",
       "3  A3DD03C9        Dragons in the Sunset        Fire + Ice    folk   \n",
       "4  E2DC1FAE                  Soul People        Space Echo   dance   \n",
       "5  842029A1                    Преданная         IMPERVTOR  rusrap   \n",
       "6  4CB90AA5                         True      Roman Messer   dance   \n",
       "7  F03E1C1F             Feeling This Way   Polina Griffith   dance   \n",
       "8  8FA1D3BE     И вновь продолжается бой               NaN  ruspop   \n",
       "9  E772D5C0                    Pessimist               NaN   dance   \n",
       "\n",
       "             City        time        Day  \n",
       "0  Saint-Petersburg  20:28:33  Wednesday  \n",
       "1            Moscow  14:07:09     Friday  \n",
       "2  Saint-Petersburg  20:58:07  Wednesday  \n",
       "3  Saint-Petersburg  08:37:09     Monday  \n",
       "4            Moscow  08:34:34     Monday  \n",
       "5  Saint-Petersburg  13:09:41     Friday  \n",
       "6            Moscow  13:00:07  Wednesday  \n",
       "7            Moscow  20:47:49  Wednesday  \n",
       "8            Moscow  09:17:40     Friday  \n",
       "9  Saint-Petersburg  21:20:49  Wednesday  "
      ]
     },
     "execution_count": 3,
     "metadata": {},
     "output_type": "execute_result"
    }
   ],
   "source": [
    "df.head(10) # получение первых 10 строк таблицы df"
   ]
  },
  {
   "cell_type": "code",
   "execution_count": 4,
   "metadata": {
    "id": "DSf2kIb-_Zct"
   },
   "outputs": [
    {
     "name": "stdout",
     "output_type": "stream",
     "text": [
      "<class 'pandas.core.frame.DataFrame'>\n",
      "RangeIndex: 65079 entries, 0 to 65078\n",
      "Data columns (total 7 columns):\n",
      "  userID    65079 non-null object\n",
      "Track       63848 non-null object\n",
      "artist      57876 non-null object\n",
      "genre       63881 non-null object\n",
      "  City      65079 non-null object\n",
      "time        65079 non-null object\n",
      "Day         65079 non-null object\n",
      "dtypes: object(7)\n",
      "memory usage: 3.5+ MB\n"
     ]
    }
   ],
   "source": [
    "df.info()# получение общей информации о данных в таблице df"
   ]
  },
  {
   "cell_type": "markdown",
   "metadata": {
    "id": "TaQ2Iwbr_Zct"
   },
   "source": [
    "Итак, в таблице семь столбцов. Тип данных во всех столбцах — `object`.\n",
    "\n",
    "Согласно документации к данным:\n",
    "* `userID` — идентификатор пользователя;\n",
    "* `Track` — название трека;  \n",
    "* `artist` — имя исполнителя;\n",
    "* `genre` — название жанра;\n",
    "* `City` — город пользователя;\n",
    "* `time` — время начала прослушивания;\n",
    "* `Day` — день недели.\n",
    "\n",
    "В названиях колонок видны три нарушения стиля:\n",
    "1. Строчные буквы сочетаются с прописными.\n",
    "2. Встречаются пробелы.\n",
    "3. Между словами не используется знак _.\n",
    "\n",
    "Количество значений в столбцах различается. Значит, в данных есть пропущенные значения.\n"
   ]
  },
  {
   "cell_type": "markdown",
   "metadata": {
    "id": "MCB6-dXG_Zct"
   },
   "source": [
    "**Выводы**\n",
    "\n",
    "В каждой строке таблицы — данные о прослушанном треке. Часть колонок описывает саму композицию: название, исполнителя и жанр. Остальные данные рассказывают о пользователе: из какого он города, когда он слушал музыку. \n",
    "\n",
    "Предварительно можно утверждать, что, данных достаточно для проверки гипотез. Но встречаются пропуски в данных, а в названиях колонок — расхождения с хорошим стилем.\n",
    "\n",
    "Чтобы двигаться дальше, нужно устранить проблемы в данных."
   ]
  },
  {
   "cell_type": "markdown",
   "metadata": {
    "id": "SjYF6Ub9_Zct"
   },
   "source": [
    "## Предобработка данных"
   ]
  },
  {
   "cell_type": "markdown",
   "metadata": {
    "id": "dIaKXr29_Zct"
   },
   "source": [
    "### Стиль заголовков"
   ]
  },
  {
   "cell_type": "code",
   "execution_count": 5,
   "metadata": {
    "id": "oKOTdF_Q_Zct"
   },
   "outputs": [
    {
     "data": {
      "text/plain": [
       "Index(['  userID', 'Track', 'artist', 'genre', '  City  ', 'time', 'Day'], dtype='object')"
      ]
     },
     "execution_count": 5,
     "metadata": {},
     "output_type": "execute_result"
    }
   ],
   "source": [
    "df.columns # перечень названий столбцов таблицы df"
   ]
  },
  {
   "cell_type": "code",
   "execution_count": 6,
   "metadata": {
    "id": "ISlFqs5y_Zct"
   },
   "outputs": [],
   "source": [
    "df = df.rename(columns = {'  userID' : 'user_id', 'Track' : 'track', '  City  ' : 'city', 'Day' : 'day'})# переименование столбцов"
   ]
  },
  {
   "cell_type": "code",
   "execution_count": 7,
   "metadata": {
    "id": "d4NOAmTW_Zct"
   },
   "outputs": [
    {
     "data": {
      "text/plain": [
       "Index(['user_id', 'track', 'artist', 'genre', 'city', 'time', 'day'], dtype='object')"
      ]
     },
     "execution_count": 7,
     "metadata": {},
     "output_type": "execute_result"
    }
   ],
   "source": [
    "df.columns # проверка результатов - перечень названий столбцов"
   ]
  },
  {
   "cell_type": "markdown",
   "metadata": {
    "id": "5ISfbcfY_Zct"
   },
   "source": [
    "### Пропуски значений"
   ]
  },
  {
   "cell_type": "code",
   "execution_count": 8,
   "metadata": {
    "id": "RskX29qr_Zct"
   },
   "outputs": [
    {
     "data": {
      "text/plain": [
       "user_id       0\n",
       "track      1231\n",
       "artist     7203\n",
       "genre      1198\n",
       "city          0\n",
       "time          0\n",
       "day           0\n",
       "dtype: int64"
      ]
     },
     "execution_count": 8,
     "metadata": {},
     "output_type": "execute_result"
    }
   ],
   "source": [
    "df.isna().sum() # подсчёт пропусков"
   ]
  },
  {
   "cell_type": "markdown",
   "metadata": {
    "id": "qubhgnlO_Zct"
   },
   "source": [
    "Не все пропущенные значения влияют на исследование. Так пропуски в `track` и `artist` не важны для исследования. Достаточно заменить их явными обозначениями.\n",
    "\n",
    "Но пропуски в `genre` могут помешать сравнению музыкальных вкусов в Москве и Санкт-Петербурге. Поэтому придётся:\n",
    "* заполнить и эти пропуски явными обозначениями,\n",
    "* оценить, насколько они повредят расчётам. "
   ]
  },
  {
   "cell_type": "code",
   "execution_count": 9,
   "metadata": {
    "id": "KplB5qWs_Zct"
   },
   "outputs": [],
   "source": [
    "columns_to_replace = ['track', 'artist', 'genre'] # перебор названий столбцов в цикле и замена пропущенных значений на 'unknown'\n",
    "for column in columns_to_replace:\n",
    "    df[column] = df[column].fillna('unknown')"
   ]
  },
  {
   "cell_type": "markdown",
   "metadata": {
    "id": "Ilsm-MZo_Zct"
   },
   "source": [
    "Убедимся, что в таблице не осталось пропусков. Для этого ещё раз посчитаем пропущенные значения."
   ]
  },
  {
   "cell_type": "code",
   "execution_count": 10,
   "metadata": {
    "id": "Tq4nYRX4_Zct"
   },
   "outputs": [
    {
     "data": {
      "text/plain": [
       "user_id    0\n",
       "track      0\n",
       "artist     0\n",
       "genre      0\n",
       "city       0\n",
       "time       0\n",
       "day        0\n",
       "dtype: int64"
      ]
     },
     "execution_count": 10,
     "metadata": {},
     "output_type": "execute_result"
    }
   ],
   "source": [
    "df.isna().sum() # подсчёт пропусков"
   ]
  },
  {
   "cell_type": "markdown",
   "metadata": {
    "id": "BWKRtBJ3_Zct"
   },
   "source": [
    "### Дубликаты"
   ]
  },
  {
   "cell_type": "code",
   "execution_count": 11,
   "metadata": {
    "id": "36eES_S0_Zct"
   },
   "outputs": [
    {
     "data": {
      "text/plain": [
       "3826"
      ]
     },
     "execution_count": 11,
     "metadata": {},
     "output_type": "execute_result"
    }
   ],
   "source": [
    "df.duplicated().sum() # подсчёт явных дубликатов"
   ]
  },
  {
   "cell_type": "code",
   "execution_count": 12,
   "metadata": {
    "id": "exFHq6tt_Zct"
   },
   "outputs": [],
   "source": [
    "df = df.drop_duplicates().reset_index(drop=True) # удаление явных дубликатов (с удалением старых индексов и формированием новых)"
   ]
  },
  {
   "cell_type": "code",
   "execution_count": 13,
   "metadata": {
    "id": "-8PuNWQ0_Zct"
   },
   "outputs": [
    {
     "data": {
      "text/plain": [
       "0"
      ]
     },
     "execution_count": 13,
     "metadata": {},
     "output_type": "execute_result"
    }
   ],
   "source": [
    "df.duplicated().sum() # проверка на отсутствие дубликатов"
   ]
  },
  {
   "cell_type": "markdown",
   "metadata": {
    "id": "QlFBsxAr_Zct"
   },
   "source": [
    "Теперь избавимся от неявных дубликатов в колонке `genre`. Например, название одного и того же жанра может быть записано немного по-разному. Такие ошибки тоже повлияют на результат исследования."
   ]
  },
  {
   "cell_type": "code",
   "execution_count": 14,
   "metadata": {
    "id": "JIUcqzZN_Zct"
   },
   "outputs": [
    {
     "data": {
      "text/plain": [
       "array(['acid', 'acoustic', 'action', 'adult', 'africa', 'afrikaans',\n",
       "       'alternative', 'alternativepunk', 'ambient', 'americana',\n",
       "       'animated', 'anime', 'arabesk', 'arabic', 'arena',\n",
       "       'argentinetango', 'art', 'audiobook', 'author', 'avantgarde',\n",
       "       'axé', 'baile', 'balkan', 'beats', 'bigroom', 'black', 'bluegrass',\n",
       "       'blues', 'bollywood', 'bossa', 'brazilian', 'breakbeat', 'breaks',\n",
       "       'broadway', 'cantautori', 'cantopop', 'canzone', 'caribbean',\n",
       "       'caucasian', 'celtic', 'chamber', 'chanson', 'children', 'chill',\n",
       "       'chinese', 'choral', 'christian', 'christmas', 'classical',\n",
       "       'classicmetal', 'club', 'colombian', 'comedy', 'conjazz',\n",
       "       'contemporary', 'country', 'cuban', 'dance', 'dancehall',\n",
       "       'dancepop', 'dark', 'death', 'deep', 'deutschrock', 'deutschspr',\n",
       "       'dirty', 'disco', 'dnb', 'documentary', 'downbeat', 'downtempo',\n",
       "       'drum', 'dub', 'dubstep', 'eastern', 'easy', 'electronic',\n",
       "       'electropop', 'emo', 'entehno', 'epicmetal', 'estrada', 'ethnic',\n",
       "       'eurofolk', 'european', 'experimental', 'extrememetal', 'fado',\n",
       "       'fairytail', 'film', 'fitness', 'flamenco', 'folk', 'folklore',\n",
       "       'folkmetal', 'folkrock', 'folktronica', 'forró', 'frankreich',\n",
       "       'französisch', 'french', 'funk', 'future', 'gangsta', 'garage',\n",
       "       'german', 'ghazal', 'gitarre', 'glitch', 'gospel', 'gothic',\n",
       "       'grime', 'grunge', 'gypsy', 'handsup', \"hard'n'heavy\", 'hardcore',\n",
       "       'hardstyle', 'hardtechno', 'hip', 'hip-hop', 'hiphop',\n",
       "       'historisch', 'holiday', 'hop', 'horror', 'house', 'hymn', 'idm',\n",
       "       'independent', 'indian', 'indie', 'indipop', 'industrial',\n",
       "       'inspirational', 'instrumental', 'international', 'irish', 'jam',\n",
       "       'japanese', 'jazz', 'jewish', 'jpop', 'jungle', 'k-pop',\n",
       "       'karadeniz', 'karaoke', 'kayokyoku', 'korean', 'laiko', 'latin',\n",
       "       'latino', 'leftfield', 'local', 'lounge', 'loungeelectronic',\n",
       "       'lovers', 'malaysian', 'mandopop', 'marschmusik', 'meditative',\n",
       "       'mediterranean', 'melodic', 'metal', 'metalcore', 'mexican',\n",
       "       'middle', 'minimal', 'miscellaneous', 'modern', 'mood', 'mpb',\n",
       "       'muslim', 'native', 'neoklassik', 'neue', 'new', 'newage',\n",
       "       'newwave', 'nu', 'nujazz', 'numetal', 'oceania', 'old', 'opera',\n",
       "       'orchestral', 'other', 'piano', 'podcasts', 'pop', 'popdance',\n",
       "       'popelectronic', 'popeurodance', 'poprussian', 'post',\n",
       "       'posthardcore', 'postrock', 'power', 'progmetal', 'progressive',\n",
       "       'psychedelic', 'punjabi', 'punk', 'quebecois', 'ragga', 'ram',\n",
       "       'rancheras', 'rap', 'rave', 'reggae', 'reggaeton', 'regional',\n",
       "       'relax', 'religious', 'retro', 'rhythm', 'rnb', 'rnr', 'rock',\n",
       "       'rockabilly', 'rockalternative', 'rockindie', 'rockother',\n",
       "       'romance', 'roots', 'ruspop', 'rusrap', 'rusrock', 'russian',\n",
       "       'salsa', 'samba', 'scenic', 'schlager', 'self', 'sertanejo',\n",
       "       'shanson', 'shoegazing', 'showtunes', 'singer', 'ska', 'skarock',\n",
       "       'slow', 'smooth', 'soft', 'soul', 'soulful', 'sound', 'soundtrack',\n",
       "       'southern', 'specialty', 'speech', 'spiritual', 'sport',\n",
       "       'stonerrock', 'surf', 'swing', 'synthpop', 'synthrock',\n",
       "       'sängerportrait', 'tango', 'tanzorchester', 'taraftar', 'tatar',\n",
       "       'tech', 'techno', 'teen', 'thrash', 'top', 'traditional',\n",
       "       'tradjazz', 'trance', 'tribal', 'trip', 'triphop', 'tropical',\n",
       "       'türk', 'türkçe', 'ukrrock', 'unknown', 'urban', 'uzbek',\n",
       "       'variété', 'vi', 'videogame', 'vocal', 'western', 'world',\n",
       "       'worldbeat', 'ïîï', 'электроника'], dtype=object)"
      ]
     },
     "execution_count": 14,
     "metadata": {},
     "output_type": "execute_result"
    }
   ],
   "source": [
    "df['genre'].sort_values().unique() # Просмотр уникальных названий жанров"
   ]
  },
  {
   "cell_type": "code",
   "execution_count": 15,
   "metadata": {
    "id": "ErNDkmns_Zct"
   },
   "outputs": [],
   "source": [
    "def replace_wrong_genres(wrong_genres, correct_genre): # Функция для замены неявных дубликатов\n",
    "    for item in wrong_genres:\n",
    "        df['genre'] = df['genre'].replace(item, correct_genre)"
   ]
  },
  {
   "cell_type": "code",
   "execution_count": 16,
   "metadata": {
    "id": "YN5i2hpmSo09"
   },
   "outputs": [],
   "source": [
    "wrong_genres = ['hip', 'hop', 'hip-hop']\n",
    "correct_genre = 'hiphop'\n",
    "replace_wrong_genres(wrong_genres, correct_genre) # Устранение неявных дубликатов"
   ]
  },
  {
   "cell_type": "code",
   "execution_count": 17,
   "metadata": {
    "id": "wvixALnFG15m"
   },
   "outputs": [
    {
     "data": {
      "text/plain": [
       "array(['acid', 'acoustic', 'action', 'adult', 'africa', 'afrikaans',\n",
       "       'alternative', 'alternativepunk', 'ambient', 'americana',\n",
       "       'animated', 'anime', 'arabesk', 'arabic', 'arena',\n",
       "       'argentinetango', 'art', 'audiobook', 'author', 'avantgarde',\n",
       "       'axé', 'baile', 'balkan', 'beats', 'bigroom', 'black', 'bluegrass',\n",
       "       'blues', 'bollywood', 'bossa', 'brazilian', 'breakbeat', 'breaks',\n",
       "       'broadway', 'cantautori', 'cantopop', 'canzone', 'caribbean',\n",
       "       'caucasian', 'celtic', 'chamber', 'chanson', 'children', 'chill',\n",
       "       'chinese', 'choral', 'christian', 'christmas', 'classical',\n",
       "       'classicmetal', 'club', 'colombian', 'comedy', 'conjazz',\n",
       "       'contemporary', 'country', 'cuban', 'dance', 'dancehall',\n",
       "       'dancepop', 'dark', 'death', 'deep', 'deutschrock', 'deutschspr',\n",
       "       'dirty', 'disco', 'dnb', 'documentary', 'downbeat', 'downtempo',\n",
       "       'drum', 'dub', 'dubstep', 'eastern', 'easy', 'electronic',\n",
       "       'electropop', 'emo', 'entehno', 'epicmetal', 'estrada', 'ethnic',\n",
       "       'eurofolk', 'european', 'experimental', 'extrememetal', 'fado',\n",
       "       'fairytail', 'film', 'fitness', 'flamenco', 'folk', 'folklore',\n",
       "       'folkmetal', 'folkrock', 'folktronica', 'forró', 'frankreich',\n",
       "       'französisch', 'french', 'funk', 'future', 'gangsta', 'garage',\n",
       "       'german', 'ghazal', 'gitarre', 'glitch', 'gospel', 'gothic',\n",
       "       'grime', 'grunge', 'gypsy', 'handsup', \"hard'n'heavy\", 'hardcore',\n",
       "       'hardstyle', 'hardtechno', 'hiphop', 'historisch', 'holiday',\n",
       "       'horror', 'house', 'hymn', 'idm', 'independent', 'indian', 'indie',\n",
       "       'indipop', 'industrial', 'inspirational', 'instrumental',\n",
       "       'international', 'irish', 'jam', 'japanese', 'jazz', 'jewish',\n",
       "       'jpop', 'jungle', 'k-pop', 'karadeniz', 'karaoke', 'kayokyoku',\n",
       "       'korean', 'laiko', 'latin', 'latino', 'leftfield', 'local',\n",
       "       'lounge', 'loungeelectronic', 'lovers', 'malaysian', 'mandopop',\n",
       "       'marschmusik', 'meditative', 'mediterranean', 'melodic', 'metal',\n",
       "       'metalcore', 'mexican', 'middle', 'minimal', 'miscellaneous',\n",
       "       'modern', 'mood', 'mpb', 'muslim', 'native', 'neoklassik', 'neue',\n",
       "       'new', 'newage', 'newwave', 'nu', 'nujazz', 'numetal', 'oceania',\n",
       "       'old', 'opera', 'orchestral', 'other', 'piano', 'podcasts', 'pop',\n",
       "       'popdance', 'popelectronic', 'popeurodance', 'poprussian', 'post',\n",
       "       'posthardcore', 'postrock', 'power', 'progmetal', 'progressive',\n",
       "       'psychedelic', 'punjabi', 'punk', 'quebecois', 'ragga', 'ram',\n",
       "       'rancheras', 'rap', 'rave', 'reggae', 'reggaeton', 'regional',\n",
       "       'relax', 'religious', 'retro', 'rhythm', 'rnb', 'rnr', 'rock',\n",
       "       'rockabilly', 'rockalternative', 'rockindie', 'rockother',\n",
       "       'romance', 'roots', 'ruspop', 'rusrap', 'rusrock', 'russian',\n",
       "       'salsa', 'samba', 'scenic', 'schlager', 'self', 'sertanejo',\n",
       "       'shanson', 'shoegazing', 'showtunes', 'singer', 'ska', 'skarock',\n",
       "       'slow', 'smooth', 'soft', 'soul', 'soulful', 'sound', 'soundtrack',\n",
       "       'southern', 'specialty', 'speech', 'spiritual', 'sport',\n",
       "       'stonerrock', 'surf', 'swing', 'synthpop', 'synthrock',\n",
       "       'sängerportrait', 'tango', 'tanzorchester', 'taraftar', 'tatar',\n",
       "       'tech', 'techno', 'teen', 'thrash', 'top', 'traditional',\n",
       "       'tradjazz', 'trance', 'tribal', 'trip', 'triphop', 'tropical',\n",
       "       'türk', 'türkçe', 'ukrrock', 'unknown', 'urban', 'uzbek',\n",
       "       'variété', 'vi', 'videogame', 'vocal', 'western', 'world',\n",
       "       'worldbeat', 'ïîï', 'электроника'], dtype=object)"
      ]
     },
     "execution_count": 17,
     "metadata": {},
     "output_type": "execute_result"
    }
   ],
   "source": [
    "df['genre'].sort_values().unique() # Проверка на неявные дубликаты"
   ]
  },
  {
   "cell_type": "markdown",
   "metadata": {
    "id": "jz6a9-7HQUDd"
   },
   "source": [
    "**Выводы**\n",
    "\n",
    "Предобработка обнаружила три проблемы в данных:\n",
    "\n",
    "- нарушения в стиле заголовков,\n",
    "- пропущенные значения,\n",
    "- дубликаты — явные и неявные.\n",
    "\n",
    "По результатам этих двух этапов исправили заголовки, чтобы упростить работу с таблицей. Без дубликатов исследование станет более точным.\n",
    "\n",
    "Пропущенные значения заменили на `'unknown'`. Ещё предстоит увидеть, не повредят ли исследованию пропуски в колонке `genre`.\n",
    "\n",
    "Теперь можно перейти к проверке гипотез. "
   ]
  },
  {
   "cell_type": "markdown",
   "metadata": {
    "id": "WttZHXH0SqKk"
   },
   "source": [
    "## Проверка гипотез"
   ]
  },
  {
   "cell_type": "markdown",
   "metadata": {
    "id": "Im936VVi_Zcu"
   },
   "source": [
    "### Сравнение поведения пользователей двух столиц"
   ]
  },
  {
   "cell_type": "markdown",
   "metadata": {
    "id": "nwt_MuaL_Zcu"
   },
   "source": [
    "Первая гипотеза утверждает, что пользователи по-разному слушают музыку в Москве и Санкт-Петербурге. Проверим это предположение по данным о трёх днях недели — понедельнике, среде и пятнице. Для этого:\n",
    "\n",
    "* Разделим пользователей Москвы и Санкт-Петербурга\n",
    "* Сравним, сколько треков послушала каждая группа пользователей в понедельник, среду и пятницу.\n"
   ]
  },
  {
   "cell_type": "markdown",
   "metadata": {
    "id": "8Dw_YMmT_Zcu"
   },
   "source": [
    "Сначала оценим активность пользователей в каждом городе. Сгруппируем данные по городу и посчитаем прослушивания в каждой группе."
   ]
  },
  {
   "cell_type": "code",
   "execution_count": 18,
   "metadata": {
    "id": "0_Qs96oh_Zcu"
   },
   "outputs": [
    {
     "data": {
      "text/plain": [
       "city\n",
       "Moscow              42741\n",
       "Saint-Petersburg    18512\n",
       "Name: track, dtype: int64"
      ]
     },
     "execution_count": 18,
     "metadata": {},
     "output_type": "execute_result"
    }
   ],
   "source": [
    "df.groupby('city')['track'].count() # Подсчёт прослушиваний в каждом городе"
   ]
  },
  {
   "cell_type": "markdown",
   "metadata": {
    "id": "dzli3w8o_Zcu"
   },
   "source": [
    "В Москве прослушиваний больше, чем в Петербурге. Из этого не следует, что московские пользователи чаще слушают музыку. Просто самих пользователей в Москве больше.\n",
    "\n",
    "Теперь сгруппируем данные по дню недели и подсчитаем прослушивания в понедельник, среду и пятницу."
   ]
  },
  {
   "cell_type": "code",
   "execution_count": 19,
   "metadata": {
    "id": "uZMKjiJz_Zcu"
   },
   "outputs": [
    {
     "data": {
      "text/plain": [
       "day\n",
       "Friday       21840\n",
       "Monday       21354\n",
       "Wednesday    18059\n",
       "Name: track, dtype: int64"
      ]
     },
     "execution_count": 19,
     "metadata": {},
     "output_type": "execute_result"
    }
   ],
   "source": [
    "df.groupby('day')['track'].count()# Подсчёт прослушиваний в каждый из трёх дней"
   ]
  },
  {
   "cell_type": "markdown",
   "metadata": {
    "id": "cC2tNrlL_Zcu"
   },
   "source": [
    "В среднем пользователи из двух городов менее активны по средам. Но картина может измениться, если рассмотреть каждый город в отдельности. Создадим функцию, которая объединит группировку и по городу, и по дню недели, а также посчитает количество пользователей в получившейся таблице."
   ]
  },
  {
   "cell_type": "code",
   "execution_count": 20,
   "metadata": {
    "id": "Nz3GdQB1_Zcu"
   },
   "outputs": [],
   "source": [
    "def number_tracks(day, city):                  # Функция для подсчёта прослушиваний для конкретного города и дня.\n",
    "    for line in df:                           \n",
    "        track_list = df[df['day'] == day]                    # сначала получим из исходной таблицы строки с нужным днём,\n",
    "        track_list = track_list[track_list['city'] == city]  # затем из результата отфильтруем строки с нужным городом,\n",
    "        track_list_count = track_list['user_id'].count()     # методом count() посчитает количество значений в колонке user_id. \n",
    "    return(track_list_count)"
   ]
  },
  {
   "cell_type": "markdown",
   "metadata": {
    "id": "ytf7xFrFJQ2r"
   },
   "source": [
    "Вызовем `number_tracks()`, каждый раз меняя значение параметров — так, чтобы получить данные для каждого города в каждый из трёх дней."
   ]
  },
  {
   "cell_type": "code",
   "execution_count": 21,
   "metadata": {
    "id": "rJcRATNQ_Zcu"
   },
   "outputs": [
    {
     "data": {
      "text/plain": [
       "15740"
      ]
     },
     "execution_count": 21,
     "metadata": {},
     "output_type": "execute_result"
    }
   ],
   "source": [
    "number_tracks('Monday', 'Moscow') # количество прослушиваний в Москве по понедельникам"
   ]
  },
  {
   "cell_type": "code",
   "execution_count": 22,
   "metadata": {
    "id": "hq_ncZ5T_Zcu"
   },
   "outputs": [
    {
     "data": {
      "text/plain": [
       "5614"
      ]
     },
     "execution_count": 22,
     "metadata": {},
     "output_type": "execute_result"
    }
   ],
   "source": [
    "number_tracks('Monday', 'Saint-Petersburg') # количество прослушиваний в Санкт-Петербурге по понедельникам"
   ]
  },
  {
   "cell_type": "code",
   "execution_count": 23,
   "metadata": {
    "id": "_NTy2VPU_Zcu"
   },
   "outputs": [
    {
     "data": {
      "text/plain": [
       "11056"
      ]
     },
     "execution_count": 23,
     "metadata": {},
     "output_type": "execute_result"
    }
   ],
   "source": [
    "number_tracks('Wednesday', 'Moscow') # количество прослушиваний в Москве по средам"
   ]
  },
  {
   "cell_type": "code",
   "execution_count": 24,
   "metadata": {
    "id": "j2y3TAwo_Zcu"
   },
   "outputs": [
    {
     "data": {
      "text/plain": [
       "7003"
      ]
     },
     "execution_count": 24,
     "metadata": {},
     "output_type": "execute_result"
    }
   ],
   "source": [
    "number_tracks('Wednesday', 'Saint-Petersburg') # количество прослушиваний в Санкт-Петербурге по средам"
   ]
  },
  {
   "cell_type": "code",
   "execution_count": 25,
   "metadata": {
    "id": "vYDw5u_K_Zcu"
   },
   "outputs": [
    {
     "data": {
      "text/plain": [
       "15945"
      ]
     },
     "execution_count": 25,
     "metadata": {},
     "output_type": "execute_result"
    }
   ],
   "source": [
    "number_tracks('Friday', 'Moscow') # количество прослушиваний в Москве по пятницам"
   ]
  },
  {
   "cell_type": "code",
   "execution_count": 26,
   "metadata": {
    "id": "8_yzFtW3_Zcu"
   },
   "outputs": [
    {
     "data": {
      "text/plain": [
       "5895"
      ]
     },
     "execution_count": 26,
     "metadata": {},
     "output_type": "execute_result"
    }
   ],
   "source": [
    "number_tracks('Friday', 'Saint-Petersburg') # количество прослушиваний в Санкт-Петербурге по пятницам"
   ]
  },
  {
   "cell_type": "code",
   "execution_count": 27,
   "metadata": {
    "id": "APAcLpOr_Zcu"
   },
   "outputs": [
    {
     "data": {
      "text/html": [
       "<div>\n",
       "<style scoped>\n",
       "    .dataframe tbody tr th:only-of-type {\n",
       "        vertical-align: middle;\n",
       "    }\n",
       "\n",
       "    .dataframe tbody tr th {\n",
       "        vertical-align: top;\n",
       "    }\n",
       "\n",
       "    .dataframe thead th {\n",
       "        text-align: right;\n",
       "    }\n",
       "</style>\n",
       "<table border=\"1\" class=\"dataframe\">\n",
       "  <thead>\n",
       "    <tr style=\"text-align: right;\">\n",
       "      <th></th>\n",
       "      <th>city</th>\n",
       "      <th>monday</th>\n",
       "      <th>wednesday</th>\n",
       "      <th>friday</th>\n",
       "    </tr>\n",
       "  </thead>\n",
       "  <tbody>\n",
       "    <tr>\n",
       "      <td>0</td>\n",
       "      <td>Moscow</td>\n",
       "      <td>15740</td>\n",
       "      <td>11056</td>\n",
       "      <td>15945</td>\n",
       "    </tr>\n",
       "    <tr>\n",
       "      <td>1</td>\n",
       "      <td>Saint-Petersburg</td>\n",
       "      <td>5614</td>\n",
       "      <td>7003</td>\n",
       "      <td>5895</td>\n",
       "    </tr>\n",
       "  </tbody>\n",
       "</table>\n",
       "</div>"
      ],
      "text/plain": [
       "               city  monday  wednesday  friday\n",
       "0            Moscow   15740      11056   15945\n",
       "1  Saint-Petersburg    5614       7003    5895"
      ]
     },
     "metadata": {},
     "output_type": "display_data"
    }
   ],
   "source": [
    "data = [\n",
    "    ['Moscow', 15740, 11056, 15945],\n",
    "    ['Saint-Petersburg', 5614, 7003, 5895]\n",
    "]\n",
    "columns = ['city', 'monday', 'wednesday', 'friday']\n",
    "filtered_tracks = pd.DataFrame(data = data, columns = columns)\n",
    "display(filtered_tracks) # Создадим таблицу с полученными результатами"
   ]
  },
  {
   "cell_type": "markdown",
   "metadata": {
    "id": "-EgPIHYu_Zcu"
   },
   "source": [
    "**Выводы**\n",
    "\n",
    "Данные показывают разницу поведения пользователей:\n",
    "\n",
    "- В Москве пик прослушиваний приходится на понедельник и пятницу, а в среду заметен спад.\n",
    "- В Петербурге, наоборот, больше слушают музыку по средам. Активность в понедельник и пятницу здесь почти в равной мере уступает среде.\n",
    "\n",
    "Значит, данные говорят в пользу первой гипотезы."
   ]
  },
  {
   "cell_type": "markdown",
   "metadata": {
    "id": "atZAxtq4_Zcu"
   },
   "source": [
    "### Музыка в начале и в конце недели"
   ]
  },
  {
   "cell_type": "markdown",
   "metadata": {
    "id": "eXrQqXFH_Zcu"
   },
   "source": [
    "Согласно второй гипотезе, утром в понедельник в Москве преобладают одни жанры, а в Петербурге — другие. Так же и вечером пятницы преобладают разные жанры — в зависимости от города."
   ]
  },
  {
   "cell_type": "markdown",
   "metadata": {
    "id": "S8UcW6Hw_Zcu"
   },
   "source": [
    "Сохраним таблицы с данными в две переменные:\n",
    "* по Москве — в `moscow_general`;\n",
    "* по Санкт-Петербургу — в `spb_general`."
   ]
  },
  {
   "cell_type": "code",
   "execution_count": 28,
   "metadata": {
    "id": "qeaFfM_P_Zcu"
   },
   "outputs": [],
   "source": [
    "moscow_general = df[df['city'] == 'Moscow']   # получим таблицы moscow_general из тех строк таблицы df, \n",
    "                                              # для которых значение в столбце 'city' равно 'Moscow'"
   ]
  },
  {
   "cell_type": "code",
   "execution_count": 29,
   "metadata": {
    "id": "ORaVRKto_Zcu"
   },
   "outputs": [],
   "source": [
    "spb_general = df[df['city'] == 'Saint-Petersburg'] # получение таблицы spb_general из тех строк таблицы df,\n",
    "                                                   # для которых значение в столбце 'city' равно 'Saint-Petersburg'"
   ]
  },
  {
   "cell_type": "markdown",
   "metadata": {
    "id": "MEJV-CX2_Zcu"
   },
   "source": [
    "Создадим функцию `genre_weekday()` с четырьмя параметрами:\n",
    "* таблица (датафрейм) с данными,\n",
    "* день недели,\n",
    "* начальная временная метка в формате 'hh:mm', \n",
    "* последняя временная метка в формате 'hh:mm'.\n",
    "\n",
    "Функция должна вернуть информацию о топ-10 жанров тех треков, которые прослушивали в указанный день, в промежутке между двумя отметками времени."
   ]
  },
  {
   "cell_type": "code",
   "execution_count": 30,
   "metadata": {
    "id": "laJT9BYl_Zcu"
   },
   "outputs": [],
   "source": [
    "def genre_weekday(table, day, time1, time2):\n",
    "    genre_df = table[table['day'] == day]\n",
    "    genre_df = genre_df[genre_df['time'] > time1]\n",
    "    genre_df = genre_df[genre_df['time'] < time2]\n",
    "    genre_df_count = genre_df.groupby('genre')['track'].count()\n",
    "    genre_df_sorted = genre_df_count.sort_values(ascending = False)\n",
    "    return(genre_df_sorted.head(10))"
   ]
  },
  {
   "cell_type": "markdown",
   "metadata": {
    "id": "la2s2_PF_Zcu"
   },
   "source": [
    "Cравним результаты функции `genre_weekday()` для Москвы и Санкт-Петербурга в понедельник утром (с 7:00 до 11:00) и в пятницу вечером (с 17:00 до 23:00):"
   ]
  },
  {
   "cell_type": "code",
   "execution_count": 31,
   "metadata": {
    "id": "yz7itPUQ_Zcu"
   },
   "outputs": [
    {
     "data": {
      "text/plain": [
       "genre\n",
       "pop            781\n",
       "dance          549\n",
       "electronic     480\n",
       "rock           474\n",
       "hiphop         286\n",
       "ruspop         186\n",
       "world          181\n",
       "rusrap         175\n",
       "alternative    164\n",
       "unknown        161\n",
       "Name: track, dtype: int64"
      ]
     },
     "execution_count": 31,
     "metadata": {},
     "output_type": "execute_result"
    }
   ],
   "source": [
    "genre_weekday(moscow_general, 'Monday', '07:00', '11:00') # утро понедельника в Москве"
   ]
  },
  {
   "cell_type": "code",
   "execution_count": 32,
   "metadata": {
    "id": "kwUcHPdy_Zcu"
   },
   "outputs": [
    {
     "data": {
      "text/plain": [
       "genre\n",
       "pop            218\n",
       "dance          182\n",
       "rock           162\n",
       "electronic     147\n",
       "hiphop          80\n",
       "ruspop          64\n",
       "alternative     58\n",
       "rusrap          55\n",
       "jazz            44\n",
       "classical       40\n",
       "Name: track, dtype: int64"
      ]
     },
     "execution_count": 32,
     "metadata": {},
     "output_type": "execute_result"
    }
   ],
   "source": [
    "genre_weekday(spb_general, 'Monday', '07:00', '11:00') # утро понедельника в Санкт-Петербурге"
   ]
  },
  {
   "cell_type": "code",
   "execution_count": 33,
   "metadata": {
    "id": "EzXVRE1o_Zcu"
   },
   "outputs": [
    {
     "data": {
      "text/plain": [
       "genre\n",
       "pop            713\n",
       "rock           517\n",
       "dance          495\n",
       "electronic     482\n",
       "hiphop         273\n",
       "world          208\n",
       "ruspop         170\n",
       "alternative    163\n",
       "classical      163\n",
       "rusrap         142\n",
       "Name: track, dtype: int64"
      ]
     },
     "execution_count": 33,
     "metadata": {},
     "output_type": "execute_result"
    }
   ],
   "source": [
    "genre_weekday(moscow_general, 'Friday', '17:00', '23:00') # вызов функции для вечера пятницы в Москве"
   ]
  },
  {
   "cell_type": "code",
   "execution_count": 34,
   "metadata": {
    "id": "JZaEKu5v_Zcu"
   },
   "outputs": [
    {
     "data": {
      "text/plain": [
       "genre\n",
       "pop            256\n",
       "rock           216\n",
       "electronic     216\n",
       "dance          210\n",
       "hiphop          97\n",
       "alternative     63\n",
       "jazz            61\n",
       "classical       60\n",
       "rusrap          59\n",
       "world           54\n",
       "Name: track, dtype: int64"
      ]
     },
     "execution_count": 34,
     "metadata": {},
     "output_type": "execute_result"
    }
   ],
   "source": [
    "genre_weekday(spb_general, 'Friday', '17:00', '23:00') # вызов функции для вечера пятницы в Петербурге"
   ]
  },
  {
   "cell_type": "markdown",
   "metadata": {
    "id": "wrCe4MNX_Zcu"
   },
   "source": [
    "**Выводы**\n",
    "\n",
    "Если сравнить топ-10 жанров в понедельник утром, можно сделать такие выводы:\n",
    "\n",
    "1. В Москве и Петербурге слушают похожую музыку. Единственное отличие — в московский рейтинг вошёл жанр “world”, а в петербургский — джаз и классика.\n",
    "\n",
    "2. В Москве пропущенных значений оказалось так много, что значение `'unknown'` заняло десятое место среди самых популярных жанров. Значит, пропущенные значения занимают существенную долю в данных и угрожают достоверности исследования.\n",
    "\n",
    "Вечер пятницы не меняет эту картину. Некоторые жанры поднимаются немного выше, другие спускаются, но в целом топ-10 остаётся тем же самым.\n",
    "\n",
    "Таким образом, вторая гипотеза подтвердилась лишь частично:\n",
    "* Пользователи слушают похожую музыку в начале недели и в конце.\n",
    "* Разница между Москвой и Петербургом не слишком выражена. В Москве чаще слушают русскую популярную музыку, в Петербурге — джаз.\n",
    "\n",
    "Однако пропуски в данных ставят под сомнение этот результат. В Москве их так много, что рейтинг топ-10 мог бы выглядеть иначе, если бы не утерянные  данные о жанрах."
   ]
  },
  {
   "cell_type": "markdown",
   "metadata": {
    "id": "JolODAqr_Zcu"
   },
   "source": [
    "### Жанровые предпочтения в Москве и Петербурге\n",
    "\n",
    "Гипотеза: Петербург — столица рэпа, музыку этого жанра там слушают чаще, чем в Москве.  А Москва — город контрастов, в котором, тем не менее, преобладает поп-музыка."
   ]
  },
  {
   "cell_type": "markdown",
   "metadata": {
    "id": "DlegSvaT_Zcu"
   },
   "source": [
    "Сгруппируем таблицу `moscow_general` по жанру и посчитаем прослушивания треков каждого жанра. Результат отсортируем в порядке убывания и сохраним его в таблице `moscow_genres`."
   ]
  },
  {
   "cell_type": "code",
   "execution_count": 35,
   "metadata": {
    "id": "r19lIPke_Zcu"
   },
   "outputs": [],
   "source": [
    "moscow_genres = moscow_general.groupby('genre')['genre'].count().sort_values(ascending = False)"
   ]
  },
  {
   "cell_type": "code",
   "execution_count": 36,
   "metadata": {
    "id": "WhCSooF8_Zcv"
   },
   "outputs": [
    {
     "data": {
      "text/plain": [
       "genre\n",
       "pop            5892\n",
       "dance          4435\n",
       "rock           3965\n",
       "electronic     3786\n",
       "hiphop         2096\n",
       "classical      1616\n",
       "world          1432\n",
       "alternative    1379\n",
       "ruspop         1372\n",
       "rusrap         1161\n",
       "Name: genre, dtype: int64"
      ]
     },
     "execution_count": 36,
     "metadata": {},
     "output_type": "execute_result"
    }
   ],
   "source": [
    "moscow_genres.head(10)  # просмотр первых 10 строк moscow_genres"
   ]
  },
  {
   "cell_type": "markdown",
   "metadata": {
    "id": "cnPG2vnN_Zcv"
   },
   "source": [
    "Повторим то же и для Петербурга."
   ]
  },
  {
   "cell_type": "code",
   "execution_count": 37,
   "metadata": {
    "id": "gluLIpE7_Zcv"
   },
   "outputs": [],
   "source": [
    "spb_genres = spb_general.groupby('genre')['genre'].count().sort_values(ascending = False)"
   ]
  },
  {
   "cell_type": "code",
   "execution_count": 38,
   "metadata": {
    "id": "uaGJHjVU_Zcv"
   },
   "outputs": [
    {
     "data": {
      "text/plain": [
       "genre\n",
       "pop            2431\n",
       "dance          1932\n",
       "rock           1879\n",
       "electronic     1736\n",
       "hiphop          960\n",
       "alternative     649\n",
       "classical       646\n",
       "rusrap          564\n",
       "ruspop          538\n",
       "world           515\n",
       "Name: genre, dtype: int64"
      ]
     },
     "execution_count": 38,
     "metadata": {},
     "output_type": "execute_result"
    }
   ],
   "source": [
    "spb_genres.head(10) # просмотр первых 10 строк spb_genres"
   ]
  },
  {
   "cell_type": "markdown",
   "metadata": {
    "id": "RY51YJYu_Zcv"
   },
   "source": [
    "**Выводы**"
   ]
  },
  {
   "cell_type": "markdown",
   "metadata": {
    "id": "nVhnJEm__Zcv"
   },
   "source": [
    "Гипотеза частично подтвердилась:\n",
    "* Поп-музыка — самый популярный жанр в Москве, как и предполагала гипотеза. Более того, в топ-10 жанров встречается близкий жанр — русская популярная музыка.\n",
    "* Вопреки ожиданиям, рэп одинаково популярен в Москве и Петербурге. \n"
   ]
  },
  {
   "cell_type": "markdown",
   "metadata": {
    "id": "ykKQ0N65_Zcv"
   },
   "source": [
    "## Итоги исследования"
   ]
  },
  {
   "cell_type": "markdown",
   "metadata": {
    "id": "tjUwbHb3_Zcv"
   },
   "source": [
    "Мы проверили три гипотезы и установили:\n",
    "\n",
    "1. День недели по-разному влияет на активность пользователей в Москве и Петербурге. \n",
    "\n",
    "Первая гипотеза полностью подтвердилась.\n",
    "\n",
    "2. Музыкальные предпочтения не сильно меняются в течение недели — будь то Москва или Петербург. Небольшие различия заметны в начале недели, по понедельникам:\n",
    "* в Москве слушают музыку жанра “world”,\n",
    "* в Петербурге — джаз и классику.\n",
    "\n",
    "Таким образом, вторая гипотеза подтвердилась лишь отчасти. Этот результат мог оказаться иным, если бы не пропуски в данных.\n",
    "\n",
    "3. Во вкусах пользователей Москвы и Петербурга больше общего чем различий. Вопреки ожиданиям, предпочтения жанров в Петербурге напоминают московские.\n",
    "\n",
    "Третья гипотеза не подтвердилась. Если различия в предпочтениях и существуют, на основной массе пользователей они незаметны."
   ]
  }
 ],
 "metadata": {
  "ExecuteTimeLog": [
   {
    "duration": 691,
    "start_time": "2021-09-17T17:36:43.361Z"
   },
   {
    "duration": 137,
    "start_time": "2021-09-17T17:38:15.154Z"
   },
   {
    "duration": 17,
    "start_time": "2021-09-17T17:38:32.806Z"
   },
   {
    "duration": 24,
    "start_time": "2021-09-17T17:38:51.304Z"
   },
   {
    "duration": 5,
    "start_time": "2021-09-17T17:41:04.734Z"
   },
   {
    "duration": 20,
    "start_time": "2021-09-17T17:43:45.184Z"
   },
   {
    "duration": 5,
    "start_time": "2021-09-17T17:43:58.324Z"
   },
   {
    "duration": 23,
    "start_time": "2021-09-17T17:45:34.643Z"
   },
   {
    "duration": 23,
    "start_time": "2021-09-17T17:59:24.161Z"
   },
   {
    "duration": 9145,
    "start_time": "2021-09-17T18:00:01.673Z"
   },
   {
    "duration": 89,
    "start_time": "2021-09-17T18:00:10.731Z"
   },
   {
    "duration": 17,
    "start_time": "2021-09-17T18:00:33.798Z"
   },
   {
    "duration": 23,
    "start_time": "2021-09-17T18:00:35.145Z"
   },
   {
    "duration": 59,
    "start_time": "2021-09-17T18:01:21.529Z"
   },
   {
    "duration": 58,
    "start_time": "2021-09-17T18:03:12.287Z"
   },
   {
    "duration": 76,
    "start_time": "2021-09-17T18:04:41.497Z"
   },
   {
    "duration": 67,
    "start_time": "2021-09-17T18:04:56.253Z"
   },
   {
    "duration": 59,
    "start_time": "2021-09-17T18:06:16.783Z"
   },
   {
    "duration": 52,
    "start_time": "2021-09-17T18:06:20.107Z"
   },
   {
    "duration": 111,
    "start_time": "2021-09-17T18:11:07.044Z"
   },
   {
    "duration": 124,
    "start_time": "2021-09-17T18:11:20.754Z"
   },
   {
    "duration": 7,
    "start_time": "2021-09-17T18:14:59.029Z"
   },
   {
    "duration": 390,
    "start_time": "2021-09-17T18:17:27.595Z"
   },
   {
    "duration": 466,
    "start_time": "2021-09-17T18:20:31.053Z"
   },
   {
    "duration": 5,
    "start_time": "2021-09-17T18:20:39.944Z"
   },
   {
    "duration": 7,
    "start_time": "2021-09-17T18:24:58.953Z"
   },
   {
    "duration": 1438,
    "start_time": "2021-09-17T18:27:55.235Z"
   },
   {
    "duration": 42,
    "start_time": "2021-09-17T18:29:08.186Z"
   },
   {
    "duration": 125,
    "start_time": "2021-09-20T19:59:58.279Z"
   },
   {
    "duration": 4,
    "start_time": "2021-09-20T20:00:21.972Z"
   },
   {
    "duration": 512,
    "start_time": "2021-09-20T20:00:42.308Z"
   },
   {
    "duration": 806,
    "start_time": "2021-09-20T20:01:03.738Z"
   },
   {
    "duration": 191,
    "start_time": "2021-09-20T20:01:05.660Z"
   },
   {
    "duration": 19,
    "start_time": "2021-09-20T20:01:07.665Z"
   },
   {
    "duration": 42,
    "start_time": "2021-09-20T20:01:09.201Z"
   },
   {
    "duration": 3,
    "start_time": "2021-09-20T20:01:19.057Z"
   },
   {
    "duration": 153,
    "start_time": "2021-09-20T20:01:19.062Z"
   },
   {
    "duration": 10,
    "start_time": "2021-09-20T20:01:19.217Z"
   },
   {
    "duration": 49,
    "start_time": "2021-09-20T20:01:19.228Z"
   },
   {
    "duration": 4,
    "start_time": "2021-09-20T20:01:19.279Z"
   },
   {
    "duration": 22,
    "start_time": "2021-09-20T20:01:19.284Z"
   },
   {
    "duration": 4,
    "start_time": "2021-09-20T20:01:19.308Z"
   },
   {
    "duration": 61,
    "start_time": "2021-09-20T20:01:19.314Z"
   },
   {
    "duration": 17,
    "start_time": "2021-09-20T20:01:19.378Z"
   },
   {
    "duration": 25,
    "start_time": "2021-09-20T20:01:19.397Z"
   },
   {
    "duration": 88,
    "start_time": "2021-09-20T20:01:19.423Z"
   },
   {
    "duration": 89,
    "start_time": "2021-09-20T20:01:19.513Z"
   },
   {
    "duration": 64,
    "start_time": "2021-09-20T20:01:19.605Z"
   },
   {
    "duration": 38,
    "start_time": "2021-09-20T20:01:19.671Z"
   },
   {
    "duration": 4,
    "start_time": "2021-09-20T20:01:19.711Z"
   },
   {
    "duration": 6,
    "start_time": "2021-09-20T20:01:19.717Z"
   },
   {
    "duration": 26,
    "start_time": "2021-09-20T20:01:19.725Z"
   },
   {
    "duration": 8,
    "start_time": "2021-09-20T20:01:19.754Z"
   },
   {
    "duration": 4,
    "start_time": "2021-09-20T20:01:19.764Z"
   },
   {
    "duration": 3,
    "start_time": "2021-09-20T20:01:19.771Z"
   },
   {
    "duration": 9,
    "start_time": "2021-09-20T20:01:19.776Z"
   },
   {
    "duration": 8,
    "start_time": "2021-09-20T20:01:19.787Z"
   },
   {
    "duration": 10,
    "start_time": "2021-09-20T20:01:19.796Z"
   },
   {
    "duration": 10,
    "start_time": "2021-09-20T20:01:19.807Z"
   },
   {
    "duration": 9,
    "start_time": "2021-09-20T20:01:19.819Z"
   },
   {
    "duration": 16,
    "start_time": "2021-09-20T20:01:19.829Z"
   },
   {
    "duration": 11,
    "start_time": "2021-09-20T20:01:19.848Z"
   },
   {
    "duration": 8,
    "start_time": "2021-09-20T20:01:19.861Z"
   },
   {
    "duration": 8,
    "start_time": "2021-09-20T20:01:19.871Z"
   },
   {
    "duration": 8,
    "start_time": "2021-09-20T20:01:19.881Z"
   },
   {
    "duration": 17,
    "start_time": "2021-09-20T20:01:19.891Z"
   },
   {
    "duration": 9,
    "start_time": "2021-09-20T20:01:19.910Z"
   },
   {
    "duration": 15,
    "start_time": "2021-09-20T20:01:19.921Z"
   },
   {
    "duration": 8,
    "start_time": "2021-09-20T20:01:19.938Z"
   },
   {
    "duration": 12,
    "start_time": "2021-09-20T20:01:19.947Z"
   },
   {
    "duration": 15,
    "start_time": "2021-09-20T20:01:19.961Z"
   },
   {
    "duration": 13,
    "start_time": "2021-09-20T20:01:19.977Z"
   },
   {
    "duration": 8,
    "start_time": "2021-09-20T20:01:19.991Z"
   },
   {
    "duration": 4,
    "start_time": "2021-09-20T20:01:40.402Z"
   },
   {
    "duration": 69,
    "start_time": "2021-09-20T20:02:02.165Z"
   },
   {
    "duration": 5,
    "start_time": "2021-09-20T20:03:22.248Z"
   },
   {
    "duration": 18,
    "start_time": "2021-09-20T20:03:28.728Z"
   },
   {
    "duration": 4,
    "start_time": "2021-09-20T20:05:46.747Z"
   },
   {
    "duration": 3,
    "start_time": "2021-09-20T20:06:48.506Z"
   },
   {
    "duration": 900,
    "start_time": "2021-09-20T20:06:49.626Z"
   },
   {
    "duration": 85,
    "start_time": "2021-09-20T20:10:17.082Z"
   },
   {
    "duration": 4,
    "start_time": "2021-09-20T20:10:26.210Z"
   },
   {
    "duration": 4,
    "start_time": "2021-09-20T20:10:28.755Z"
   },
   {
    "duration": 12,
    "start_time": "2021-09-20T20:11:16.632Z"
   },
   {
    "duration": 4,
    "start_time": "2021-09-20T20:12:11.737Z"
   },
   {
    "duration": 4,
    "start_time": "2021-09-20T20:12:12.832Z"
   },
   {
    "duration": 4,
    "start_time": "2021-09-20T20:41:29.733Z"
   },
   {
    "duration": 19,
    "start_time": "2021-09-20T20:41:34.636Z"
   },
   {
    "duration": 17,
    "start_time": "2021-09-20T20:41:38.569Z"
   },
   {
    "duration": 570,
    "start_time": "2021-09-20T20:42:08.506Z"
   },
   {
    "duration": 137,
    "start_time": "2021-09-20T20:42:09.078Z"
   },
   {
    "duration": 25,
    "start_time": "2021-09-20T20:42:09.217Z"
   },
   {
    "duration": 41,
    "start_time": "2021-09-20T20:42:09.250Z"
   },
   {
    "duration": 4,
    "start_time": "2021-09-20T20:42:09.293Z"
   },
   {
    "duration": 22,
    "start_time": "2021-09-20T20:42:09.299Z"
   },
   {
    "duration": 3,
    "start_time": "2021-09-20T20:42:09.323Z"
   },
   {
    "duration": 24,
    "start_time": "2021-09-20T20:42:09.349Z"
   },
   {
    "duration": 17,
    "start_time": "2021-09-20T20:42:09.375Z"
   },
   {
    "duration": 23,
    "start_time": "2021-09-20T20:42:09.394Z"
   },
   {
    "duration": 83,
    "start_time": "2021-09-20T20:42:09.419Z"
   },
   {
    "duration": 86,
    "start_time": "2021-09-20T20:42:09.503Z"
   },
   {
    "duration": 47,
    "start_time": "2021-09-20T20:42:09.591Z"
   },
   {
    "duration": 46,
    "start_time": "2021-09-20T20:42:09.639Z"
   },
   {
    "duration": 3,
    "start_time": "2021-09-20T20:42:09.686Z"
   },
   {
    "duration": 17,
    "start_time": "2021-09-20T20:42:09.691Z"
   },
   {
    "duration": 51,
    "start_time": "2021-09-20T20:42:09.710Z"
   },
   {
    "duration": 2,
    "start_time": "2021-09-20T20:42:09.762Z"
   },
   {
    "duration": 4,
    "start_time": "2021-09-20T20:42:09.766Z"
   },
   {
    "duration": 5,
    "start_time": "2021-09-20T20:42:09.771Z"
   },
   {
    "duration": 7,
    "start_time": "2021-09-20T20:42:09.777Z"
   },
   {
    "duration": 7,
    "start_time": "2021-09-20T20:42:09.785Z"
   },
   {
    "duration": 5,
    "start_time": "2021-09-20T20:42:09.796Z"
   },
   {
    "duration": 10,
    "start_time": "2021-09-20T20:42:09.802Z"
   },
   {
    "duration": 11,
    "start_time": "2021-09-20T20:42:09.813Z"
   },
   {
    "duration": 12,
    "start_time": "2021-09-20T20:42:09.825Z"
   },
   {
    "duration": 8,
    "start_time": "2021-09-20T20:42:09.838Z"
   },
   {
    "duration": 8,
    "start_time": "2021-09-20T20:42:09.848Z"
   },
   {
    "duration": 8,
    "start_time": "2021-09-20T20:42:09.858Z"
   },
   {
    "duration": 10,
    "start_time": "2021-09-20T20:42:09.868Z"
   },
   {
    "duration": 10,
    "start_time": "2021-09-20T20:42:09.879Z"
   },
   {
    "duration": 8,
    "start_time": "2021-09-20T20:42:09.891Z"
   },
   {
    "duration": 13,
    "start_time": "2021-09-20T20:42:09.900Z"
   },
   {
    "duration": 10,
    "start_time": "2021-09-20T20:42:09.915Z"
   },
   {
    "duration": 11,
    "start_time": "2021-09-20T20:42:09.926Z"
   },
   {
    "duration": 9,
    "start_time": "2021-09-20T20:42:09.938Z"
   },
   {
    "duration": 12,
    "start_time": "2021-09-20T20:42:09.948Z"
   },
   {
    "duration": 8,
    "start_time": "2021-09-20T20:42:09.961Z"
   },
   {
    "duration": 10,
    "start_time": "2021-09-20T20:44:33.495Z"
   },
   {
    "duration": 42,
    "start_time": "2021-09-20T20:44:47.312Z"
   },
   {
    "duration": 7,
    "start_time": "2021-09-20T20:50:41.054Z"
   },
   {
    "duration": 8,
    "start_time": "2021-09-20T20:51:16.679Z"
   },
   {
    "duration": 15,
    "start_time": "2021-09-20T20:55:22.992Z"
   },
   {
    "duration": 12,
    "start_time": "2021-09-20T20:57:15.452Z"
   },
   {
    "duration": 11,
    "start_time": "2021-09-20T20:57:25.619Z"
   },
   {
    "duration": 11,
    "start_time": "2021-09-20T20:57:39.602Z"
   },
   {
    "duration": 12,
    "start_time": "2021-09-20T20:58:39.523Z"
   },
   {
    "duration": 122,
    "start_time": "2021-09-21T07:20:58.804Z"
   },
   {
    "duration": 116,
    "start_time": "2021-09-21T07:21:22.703Z"
   },
   {
    "duration": 117,
    "start_time": "2021-09-21T07:21:39.563Z"
   },
   {
    "duration": 113,
    "start_time": "2021-09-21T07:23:23.154Z"
   },
   {
    "duration": 115,
    "start_time": "2021-09-21T07:27:46.120Z"
   },
   {
    "duration": 129,
    "start_time": "2021-09-21T07:28:12.933Z"
   },
   {
    "duration": 3,
    "start_time": "2021-09-21T07:28:41.273Z"
   },
   {
    "duration": 5,
    "start_time": "2021-09-21T07:29:10.464Z"
   },
   {
    "duration": 947,
    "start_time": "2021-09-21T07:30:24.970Z"
   },
   {
    "duration": 635,
    "start_time": "2021-09-21T07:30:45.782Z"
   },
   {
    "duration": 142,
    "start_time": "2021-09-21T07:30:46.419Z"
   },
   {
    "duration": 21,
    "start_time": "2021-09-21T07:30:46.563Z"
   },
   {
    "duration": 24,
    "start_time": "2021-09-21T07:30:46.586Z"
   },
   {
    "duration": 17,
    "start_time": "2021-09-21T07:30:46.611Z"
   },
   {
    "duration": 34,
    "start_time": "2021-09-21T07:30:46.630Z"
   },
   {
    "duration": 6,
    "start_time": "2021-09-21T07:30:46.665Z"
   },
   {
    "duration": 23,
    "start_time": "2021-09-21T07:30:46.674Z"
   },
   {
    "duration": 23,
    "start_time": "2021-09-21T07:30:46.699Z"
   },
   {
    "duration": 56,
    "start_time": "2021-09-21T07:30:46.724Z"
   },
   {
    "duration": 58,
    "start_time": "2021-09-21T07:30:46.782Z"
   },
   {
    "duration": 80,
    "start_time": "2021-09-21T07:30:46.842Z"
   },
   {
    "duration": 53,
    "start_time": "2021-09-21T07:30:46.924Z"
   },
   {
    "duration": 39,
    "start_time": "2021-09-21T07:30:46.979Z"
   },
   {
    "duration": 3,
    "start_time": "2021-09-21T07:30:47.020Z"
   },
   {
    "duration": 12,
    "start_time": "2021-09-21T07:30:47.024Z"
   },
   {
    "duration": 61,
    "start_time": "2021-09-21T07:30:47.037Z"
   },
   {
    "duration": 12,
    "start_time": "2021-09-21T07:30:47.100Z"
   },
   {
    "duration": 10,
    "start_time": "2021-09-21T07:30:47.114Z"
   },
   {
    "duration": 3,
    "start_time": "2021-09-21T07:30:47.126Z"
   },
   {
    "duration": 104,
    "start_time": "2021-09-21T07:30:47.130Z"
   },
   {
    "duration": 3,
    "start_time": "2021-09-21T07:30:47.235Z"
   },
   {
    "duration": 9,
    "start_time": "2021-09-21T07:30:47.241Z"
   },
   {
    "duration": 5,
    "start_time": "2021-09-21T07:30:47.252Z"
   },
   {
    "duration": 10,
    "start_time": "2021-09-21T07:30:47.258Z"
   },
   {
    "duration": 7,
    "start_time": "2021-09-21T07:30:47.270Z"
   },
   {
    "duration": 7,
    "start_time": "2021-09-21T07:30:47.278Z"
   },
   {
    "duration": 7,
    "start_time": "2021-09-21T07:30:47.286Z"
   },
   {
    "duration": 7,
    "start_time": "2021-09-21T07:30:47.294Z"
   },
   {
    "duration": 8,
    "start_time": "2021-09-21T07:30:47.303Z"
   },
   {
    "duration": 12,
    "start_time": "2021-09-21T07:30:47.313Z"
   },
   {
    "duration": 16,
    "start_time": "2021-09-21T07:30:47.326Z"
   },
   {
    "duration": 15,
    "start_time": "2021-09-21T07:30:47.344Z"
   },
   {
    "duration": 6,
    "start_time": "2021-09-21T07:30:47.360Z"
   },
   {
    "duration": 7,
    "start_time": "2021-09-21T07:30:47.368Z"
   },
   {
    "duration": 6,
    "start_time": "2021-09-21T07:30:47.376Z"
   },
   {
    "duration": 4,
    "start_time": "2021-09-21T07:30:47.384Z"
   },
   {
    "duration": 12,
    "start_time": "2021-09-21T07:30:47.390Z"
   },
   {
    "duration": 69,
    "start_time": "2021-09-21T07:31:40.787Z"
   },
   {
    "duration": 66,
    "start_time": "2021-09-21T07:34:59.625Z"
   },
   {
    "duration": 66,
    "start_time": "2021-09-21T07:35:00.789Z"
   },
   {
    "duration": 80,
    "start_time": "2021-09-21T07:35:27.299Z"
   },
   {
    "duration": 70,
    "start_time": "2021-09-21T07:35:27.937Z"
   },
   {
    "duration": 408,
    "start_time": "2021-09-21T07:44:22.866Z"
   },
   {
    "duration": 430,
    "start_time": "2021-09-21T07:46:25.319Z"
   },
   {
    "duration": 117,
    "start_time": "2021-09-21T07:50:49.719Z"
   },
   {
    "duration": 6,
    "start_time": "2021-09-21T07:51:14.021Z"
   },
   {
    "duration": 7,
    "start_time": "2021-09-21T07:51:41.654Z"
   },
   {
    "duration": 8,
    "start_time": "2021-09-21T07:53:18.489Z"
   },
   {
    "duration": 430,
    "start_time": "2021-09-21T07:54:03.782Z"
   },
   {
    "duration": 7,
    "start_time": "2021-09-21T07:54:40.477Z"
   },
   {
    "duration": 9,
    "start_time": "2021-09-21T09:00:59.046Z"
   },
   {
    "duration": 11,
    "start_time": "2021-09-21T09:05:21.796Z"
   },
   {
    "duration": 9,
    "start_time": "2021-09-21T09:05:22.372Z"
   },
   {
    "duration": 4,
    "start_time": "2021-09-21T09:12:58.449Z"
   },
   {
    "duration": 4,
    "start_time": "2021-09-21T09:29:58.272Z"
   },
   {
    "duration": 27,
    "start_time": "2021-09-21T09:31:14.634Z"
   },
   {
    "duration": 18,
    "start_time": "2021-09-21T09:31:52.427Z"
   },
   {
    "duration": 30,
    "start_time": "2021-09-21T09:32:40.187Z"
   },
   {
    "duration": 20,
    "start_time": "2021-09-21T09:33:22.711Z"
   },
   {
    "duration": 4,
    "start_time": "2021-09-21T09:46:05.690Z"
   },
   {
    "duration": 25,
    "start_time": "2021-09-21T09:46:07.684Z"
   },
   {
    "duration": 17,
    "start_time": "2021-09-21T09:46:19.458Z"
   },
   {
    "duration": 23,
    "start_time": "2021-09-21T09:46:20.403Z"
   },
   {
    "duration": 15,
    "start_time": "2021-09-21T09:46:21.284Z"
   },
   {
    "duration": 4,
    "start_time": "2021-09-21T09:46:58.120Z"
   },
   {
    "duration": 19,
    "start_time": "2021-09-21T09:47:00.132Z"
   },
   {
    "duration": 13,
    "start_time": "2021-09-21T09:47:09.646Z"
   },
   {
    "duration": 17,
    "start_time": "2021-09-21T09:47:14.109Z"
   },
   {
    "duration": 12,
    "start_time": "2021-09-21T09:47:17.098Z"
   },
   {
    "duration": 9,
    "start_time": "2021-09-21T10:06:56.239Z"
   },
   {
    "duration": 5,
    "start_time": "2021-09-21T10:07:16.877Z"
   },
   {
    "duration": 578,
    "start_time": "2021-09-21T10:09:33.971Z"
   },
   {
    "duration": 6,
    "start_time": "2021-09-21T10:09:52.603Z"
   },
   {
    "duration": 7,
    "start_time": "2021-09-21T10:09:56.907Z"
   },
   {
    "duration": 3,
    "start_time": "2021-09-21T10:15:19.761Z"
   },
   {
    "duration": 232,
    "start_time": "2021-09-21T10:15:19.766Z"
   },
   {
    "duration": 15,
    "start_time": "2021-09-21T10:15:20.001Z"
   },
   {
    "duration": 59,
    "start_time": "2021-09-21T10:15:20.018Z"
   },
   {
    "duration": 5,
    "start_time": "2021-09-21T10:15:20.079Z"
   },
   {
    "duration": 29,
    "start_time": "2021-09-21T10:15:20.086Z"
   },
   {
    "duration": 5,
    "start_time": "2021-09-21T10:15:20.117Z"
   },
   {
    "duration": 30,
    "start_time": "2021-09-21T10:15:20.124Z"
   },
   {
    "duration": 18,
    "start_time": "2021-09-21T10:15:20.177Z"
   },
   {
    "duration": 24,
    "start_time": "2021-09-21T10:15:20.197Z"
   },
   {
    "duration": 85,
    "start_time": "2021-09-21T10:15:20.223Z"
   },
   {
    "duration": 67,
    "start_time": "2021-09-21T10:15:20.309Z"
   },
   {
    "duration": 51,
    "start_time": "2021-09-21T10:15:20.378Z"
   },
   {
    "duration": 59,
    "start_time": "2021-09-21T10:15:20.431Z"
   },
   {
    "duration": 3,
    "start_time": "2021-09-21T10:15:20.492Z"
   },
   {
    "duration": 16,
    "start_time": "2021-09-21T10:15:20.497Z"
   },
   {
    "duration": 82,
    "start_time": "2021-09-21T10:15:20.516Z"
   },
   {
    "duration": 18,
    "start_time": "2021-09-21T10:15:20.601Z"
   },
   {
    "duration": 18,
    "start_time": "2021-09-21T10:15:20.621Z"
   },
   {
    "duration": 5,
    "start_time": "2021-09-21T10:15:20.641Z"
   },
   {
    "duration": 123,
    "start_time": "2021-09-21T10:15:20.648Z"
   },
   {
    "duration": 69,
    "start_time": "2021-09-21T10:15:20.772Z"
   },
   {
    "duration": 84,
    "start_time": "2021-09-21T10:15:20.844Z"
   },
   {
    "duration": 73,
    "start_time": "2021-09-21T10:15:20.930Z"
   },
   {
    "duration": 83,
    "start_time": "2021-09-21T10:15:21.005Z"
   },
   {
    "duration": 86,
    "start_time": "2021-09-21T10:15:21.090Z"
   },
   {
    "duration": 9,
    "start_time": "2021-09-21T10:15:21.179Z"
   },
   {
    "duration": 15,
    "start_time": "2021-09-21T10:15:21.190Z"
   },
   {
    "duration": 11,
    "start_time": "2021-09-21T10:15:21.207Z"
   },
   {
    "duration": 7,
    "start_time": "2021-09-21T10:15:21.220Z"
   },
   {
    "duration": 51,
    "start_time": "2021-09-21T10:15:21.229Z"
   },
   {
    "duration": 14,
    "start_time": "2021-09-21T10:15:21.282Z"
   },
   {
    "duration": 25,
    "start_time": "2021-09-21T10:15:21.298Z"
   },
   {
    "duration": 16,
    "start_time": "2021-09-21T10:15:21.325Z"
   },
   {
    "duration": 41,
    "start_time": "2021-09-21T10:15:21.343Z"
   },
   {
    "duration": 6,
    "start_time": "2021-09-21T10:15:21.386Z"
   },
   {
    "duration": 9,
    "start_time": "2021-09-21T10:15:21.393Z"
   },
   {
    "duration": 6,
    "start_time": "2021-09-21T10:15:21.404Z"
   },
   {
    "duration": 615,
    "start_time": "2021-09-21T10:27:09.729Z"
   },
   {
    "duration": 209,
    "start_time": "2021-09-21T10:27:10.346Z"
   },
   {
    "duration": 27,
    "start_time": "2021-09-21T10:27:10.558Z"
   },
   {
    "duration": 44,
    "start_time": "2021-09-21T10:27:10.588Z"
   },
   {
    "duration": 12,
    "start_time": "2021-09-21T10:27:10.634Z"
   },
   {
    "duration": 42,
    "start_time": "2021-09-21T10:27:10.648Z"
   },
   {
    "duration": 7,
    "start_time": "2021-09-21T10:27:10.692Z"
   },
   {
    "duration": 42,
    "start_time": "2021-09-21T10:27:10.702Z"
   },
   {
    "duration": 47,
    "start_time": "2021-09-21T10:27:10.747Z"
   },
   {
    "duration": 40,
    "start_time": "2021-09-21T10:27:10.797Z"
   },
   {
    "duration": 118,
    "start_time": "2021-09-21T10:27:10.840Z"
   },
   {
    "duration": 117,
    "start_time": "2021-09-21T10:27:10.960Z"
   },
   {
    "duration": 99,
    "start_time": "2021-09-21T10:27:11.079Z"
   },
   {
    "duration": 64,
    "start_time": "2021-09-21T10:27:11.180Z"
   },
   {
    "duration": 4,
    "start_time": "2021-09-21T10:27:11.246Z"
   },
   {
    "duration": 35,
    "start_time": "2021-09-21T10:27:11.252Z"
   },
   {
    "duration": 70,
    "start_time": "2021-09-21T10:27:11.289Z"
   },
   {
    "duration": 32,
    "start_time": "2021-09-21T10:27:11.361Z"
   },
   {
    "duration": 18,
    "start_time": "2021-09-21T10:27:11.396Z"
   },
   {
    "duration": 4,
    "start_time": "2021-09-21T10:27:11.416Z"
   },
   {
    "duration": 159,
    "start_time": "2021-09-21T10:27:11.423Z"
   },
   {
    "duration": 126,
    "start_time": "2021-09-21T10:27:11.584Z"
   },
   {
    "duration": 125,
    "start_time": "2021-09-21T10:27:11.714Z"
   },
   {
    "duration": 119,
    "start_time": "2021-09-21T10:27:11.842Z"
   },
   {
    "duration": 141,
    "start_time": "2021-09-21T10:27:11.963Z"
   },
   {
    "duration": 131,
    "start_time": "2021-09-21T10:27:12.106Z"
   },
   {
    "duration": 12,
    "start_time": "2021-09-21T10:27:12.239Z"
   },
   {
    "duration": 27,
    "start_time": "2021-09-21T10:27:12.253Z"
   },
   {
    "duration": 10,
    "start_time": "2021-09-21T10:27:12.281Z"
   },
   {
    "duration": 5,
    "start_time": "2021-09-21T10:27:12.292Z"
   },
   {
    "duration": 44,
    "start_time": "2021-09-21T10:27:12.299Z"
   },
   {
    "duration": 33,
    "start_time": "2021-09-21T10:27:12.345Z"
   },
   {
    "duration": 24,
    "start_time": "2021-09-21T10:27:12.380Z"
   },
   {
    "duration": 15,
    "start_time": "2021-09-21T10:27:12.406Z"
   },
   {
    "duration": 11,
    "start_time": "2021-09-21T10:27:12.423Z"
   },
   {
    "duration": 6,
    "start_time": "2021-09-21T10:27:12.436Z"
   },
   {
    "duration": 19,
    "start_time": "2021-09-21T10:27:12.476Z"
   },
   {
    "duration": 8,
    "start_time": "2021-09-21T10:27:12.497Z"
   },
   {
    "duration": 813,
    "start_time": "2021-09-22T06:28:12.706Z"
   },
   {
    "duration": 260,
    "start_time": "2021-09-22T06:28:13.576Z"
   },
   {
    "duration": 18,
    "start_time": "2021-09-22T06:28:13.838Z"
   },
   {
    "duration": 25,
    "start_time": "2021-09-22T06:28:13.877Z"
   },
   {
    "duration": 5,
    "start_time": "2021-09-22T06:28:13.904Z"
   },
   {
    "duration": 25,
    "start_time": "2021-09-22T06:28:13.911Z"
   },
   {
    "duration": 12,
    "start_time": "2021-09-22T06:28:13.938Z"
   },
   {
    "duration": 44,
    "start_time": "2021-09-22T06:28:13.952Z"
   },
   {
    "duration": 25,
    "start_time": "2021-09-22T06:28:13.998Z"
   },
   {
    "duration": 24,
    "start_time": "2021-09-22T06:28:14.025Z"
   },
   {
    "duration": 82,
    "start_time": "2021-09-22T06:28:14.051Z"
   },
   {
    "duration": 85,
    "start_time": "2021-09-22T06:28:14.135Z"
   },
   {
    "duration": 95,
    "start_time": "2021-09-22T06:28:14.222Z"
   },
   {
    "duration": 90,
    "start_time": "2021-09-22T06:28:14.319Z"
   },
   {
    "duration": 5,
    "start_time": "2021-09-22T06:28:14.410Z"
   },
   {
    "duration": 13,
    "start_time": "2021-09-22T06:28:14.416Z"
   },
   {
    "duration": 78,
    "start_time": "2021-09-22T06:28:14.431Z"
   },
   {
    "duration": 13,
    "start_time": "2021-09-22T06:28:14.511Z"
   },
   {
    "duration": 13,
    "start_time": "2021-09-22T06:28:14.525Z"
   },
   {
    "duration": 38,
    "start_time": "2021-09-22T06:28:14.540Z"
   },
   {
    "duration": 97,
    "start_time": "2021-09-22T06:28:14.580Z"
   },
   {
    "duration": 76,
    "start_time": "2021-09-22T06:28:14.679Z"
   },
   {
    "duration": 96,
    "start_time": "2021-09-22T06:28:14.757Z"
   },
   {
    "duration": 81,
    "start_time": "2021-09-22T06:28:14.855Z"
   },
   {
    "duration": 111,
    "start_time": "2021-09-22T06:28:14.937Z"
   },
   {
    "duration": 88,
    "start_time": "2021-09-22T06:28:15.050Z"
   },
   {
    "duration": 9,
    "start_time": "2021-09-22T06:28:15.142Z"
   },
   {
    "duration": 27,
    "start_time": "2021-09-22T06:28:15.153Z"
   },
   {
    "duration": 9,
    "start_time": "2021-09-22T06:28:15.182Z"
   },
   {
    "duration": 7,
    "start_time": "2021-09-22T06:28:15.193Z"
   },
   {
    "duration": 29,
    "start_time": "2021-09-22T06:28:15.202Z"
   },
   {
    "duration": 14,
    "start_time": "2021-09-22T06:28:15.233Z"
   },
   {
    "duration": 39,
    "start_time": "2021-09-22T06:28:15.248Z"
   },
   {
    "duration": 13,
    "start_time": "2021-09-22T06:28:15.289Z"
   },
   {
    "duration": 8,
    "start_time": "2021-09-22T06:28:15.304Z"
   },
   {
    "duration": 4,
    "start_time": "2021-09-22T06:28:15.314Z"
   },
   {
    "duration": 10,
    "start_time": "2021-09-22T06:28:15.320Z"
   },
   {
    "duration": 6,
    "start_time": "2021-09-22T06:28:15.332Z"
   },
   {
    "duration": 181,
    "start_time": "2021-10-07T16:26:12.142Z"
   },
   {
    "duration": 570,
    "start_time": "2021-10-07T16:26:25.381Z"
   },
   {
    "duration": 132,
    "start_time": "2021-10-07T16:26:25.953Z"
   },
   {
    "duration": 19,
    "start_time": "2021-10-07T16:26:26.087Z"
   },
   {
    "duration": 35,
    "start_time": "2021-10-07T16:26:26.108Z"
   },
   {
    "duration": 3,
    "start_time": "2021-10-07T16:26:26.145Z"
   },
   {
    "duration": 23,
    "start_time": "2021-10-07T16:26:26.150Z"
   },
   {
    "duration": 8,
    "start_time": "2021-10-07T16:26:26.174Z"
   },
   {
    "duration": 33,
    "start_time": "2021-10-07T16:26:26.184Z"
   },
   {
    "duration": 17,
    "start_time": "2021-10-07T16:26:26.220Z"
   },
   {
    "duration": 20,
    "start_time": "2021-10-07T16:26:26.239Z"
   },
   {
    "duration": 78,
    "start_time": "2021-10-07T16:26:26.261Z"
   },
   {
    "duration": 81,
    "start_time": "2021-10-07T16:26:26.341Z"
   },
   {
    "duration": 51,
    "start_time": "2021-10-07T16:26:26.423Z"
   },
   {
    "duration": 51,
    "start_time": "2021-10-07T16:26:26.476Z"
   },
   {
    "duration": 2,
    "start_time": "2021-10-07T16:26:26.529Z"
   },
   {
    "duration": 10,
    "start_time": "2021-10-07T16:26:26.533Z"
   },
   {
    "duration": 57,
    "start_time": "2021-10-07T16:26:26.544Z"
   },
   {
    "duration": 11,
    "start_time": "2021-10-07T16:26:26.603Z"
   },
   {
    "duration": 11,
    "start_time": "2021-10-07T16:26:26.615Z"
   },
   {
    "duration": 4,
    "start_time": "2021-10-07T16:26:26.627Z"
   },
   {
    "duration": 99,
    "start_time": "2021-10-07T16:26:26.632Z"
   },
   {
    "duration": 77,
    "start_time": "2021-10-07T16:26:26.733Z"
   },
   {
    "duration": 66,
    "start_time": "2021-10-07T16:26:26.812Z"
   },
   {
    "duration": 76,
    "start_time": "2021-10-07T16:26:26.880Z"
   },
   {
    "duration": 88,
    "start_time": "2021-10-07T16:26:26.957Z"
   },
   {
    "duration": 72,
    "start_time": "2021-10-07T16:26:27.047Z"
   },
   {
    "duration": 8,
    "start_time": "2021-10-07T16:26:27.122Z"
   },
   {
    "duration": 12,
    "start_time": "2021-10-07T16:26:27.132Z"
   },
   {
    "duration": 10,
    "start_time": "2021-10-07T16:26:27.146Z"
   },
   {
    "duration": 5,
    "start_time": "2021-10-07T16:26:27.157Z"
   },
   {
    "duration": 50,
    "start_time": "2021-10-07T16:26:27.164Z"
   },
   {
    "duration": 13,
    "start_time": "2021-10-07T16:26:27.216Z"
   },
   {
    "duration": 17,
    "start_time": "2021-10-07T16:26:27.231Z"
   },
   {
    "duration": 13,
    "start_time": "2021-10-07T16:26:27.250Z"
   },
   {
    "duration": 41,
    "start_time": "2021-10-07T16:26:27.265Z"
   },
   {
    "duration": 5,
    "start_time": "2021-10-07T16:26:27.308Z"
   },
   {
    "duration": 7,
    "start_time": "2021-10-07T16:26:27.315Z"
   },
   {
    "duration": 5,
    "start_time": "2021-10-07T16:26:27.323Z"
   }
  ],
  "colab": {
   "collapsed_sections": [
    "E0vqbgi9ay0H",
    "VUC88oWjTJw2"
   ],
   "name": "yandex_music_project_2021.2.ipynb",
   "provenance": []
  },
  "kernelspec": {
   "display_name": "Python 3",
   "language": "python",
   "name": "python3"
  },
  "language_info": {
   "codemirror_mode": {
    "name": "ipython",
    "version": 3
   },
   "file_extension": ".py",
   "mimetype": "text/x-python",
   "name": "python",
   "nbconvert_exporter": "python",
   "pygments_lexer": "ipython3",
   "version": "3.8.8"
  },
  "toc": {
   "base_numbering": 1,
   "nav_menu": {},
   "number_sections": true,
   "sideBar": true,
   "skip_h1_title": true,
   "title_cell": "Table of Contents",
   "title_sidebar": "Contents",
   "toc_cell": false,
   "toc_position": {},
   "toc_section_display": true,
   "toc_window_display": true
  }
 },
 "nbformat": 4,
 "nbformat_minor": 1
}
